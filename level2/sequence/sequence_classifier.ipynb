{
 "cells": [
  {
   "cell_type": "code",
   "execution_count": 1,
   "id": "4b4d0277",
   "metadata": {},
   "outputs": [],
   "source": [
    "#11\tSequence classification\tRNN/LSTM from scratch\tSynthetic data"
   ]
  },
  {
   "cell_type": "code",
   "execution_count": 2,
   "id": "b3367d64",
   "metadata": {},
   "outputs": [],
   "source": [
    "import torch\n",
    "import torch.nn as nn\n",
    "import torch.optim as optim\n",
    "import numpy as np\n"
   ]
  },
  {
   "cell_type": "code",
   "execution_count": 5,
   "id": "96690343",
   "metadata": {},
   "outputs": [
    {
     "name": "stdout",
     "output_type": "stream",
     "text": [
      "(1000, 10) (1000, 1)\n",
      "[[ 5.53700932  2.6846156   2.6833169  ...  0.41859348  2.75497161\n",
      "   9.55072493]\n",
      " [ 3.17125041  4.20171094  5.60581778 ... 10.40602578 11.89099041\n",
      "  12.02968957]\n",
      " [ 2.14360996  5.96153689  6.28583361 ...  6.25568584  3.21319593\n",
      "   3.34349585]\n",
      " ...\n",
      " [ 3.55750761  2.55241504  6.02529567 ...  8.49978557  7.18946702\n",
      "   2.92592904]\n",
      " [ 0.76265372  7.45628604  2.92917575 ...  7.73550836  9.00466011\n",
      "   3.59529458]\n",
      " [ 2.96519585  5.34436872  7.88207263 ...  3.86944083  0.9681647\n",
      "   6.39621817]]\n"
     ]
    }
   ],
   "source": [
    "def generate_sequence(length=10,increasing=True):\n",
    "    if increasing:\n",
    "        base=np.random.randint(0,5)\n",
    "        return np.array([base+i+np.random.rand() for i in range(length) ])\n",
    "    else:\n",
    "        return np.random.rand(length)*10\n",
    "def generate_dataset(num_samples=1000,seq_length=10):\n",
    "    X=[]\n",
    "    y=[]\n",
    "    for _ in range(num_samples):\n",
    "        label=np.random.randint(0,2)\n",
    "        sequence=generate_sequence(seq_length,increasing=bool(label))\n",
    "        X.append(sequence)\n",
    "        y.append(label)\n",
    "    return np.array(X),np.array(y).reshape(-1,1)\n",
    "X,y=generate_dataset()\n",
    "print(X.shape,y.shape)\n",
    "print(X)"
   ]
  },
  {
   "cell_type": "code",
   "execution_count": 7,
   "id": "5a57326e",
   "metadata": {},
   "outputs": [],
   "source": [
    "from sklearn.preprocessing import MinMaxScaler\n",
    "scaler=MinMaxScaler()\n",
    "X_scaled=scaler.fit_transform(X.reshape(-1,1)).reshape(X.shape[0],X.shape[1],1)"
   ]
  },
  {
   "cell_type": "code",
   "execution_count": null,
   "id": "ab243180",
   "metadata": {},
   "outputs": [],
   "source": [
    "class LSTMClassifier:\n",
    "    def __init__(self,input_size,hidden_size,output_size):\n",
    "        self.hidden_size=hidden_size\n",
    "        #inputweights\n"
   ]
  }
 ],
 "metadata": {
  "kernelspec": {
   "display_name": "venvtorch (3.13.5)",
   "language": "python",
   "name": "python3"
  },
  "language_info": {
   "codemirror_mode": {
    "name": "ipython",
    "version": 3
   },
   "file_extension": ".py",
   "mimetype": "text/x-python",
   "name": "python",
   "nbconvert_exporter": "python",
   "pygments_lexer": "ipython3",
   "version": "3.13.5"
  }
 },
 "nbformat": 4,
 "nbformat_minor": 5
}
